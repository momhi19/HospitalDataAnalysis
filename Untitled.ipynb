{
 "cells": [
  {
   "cell_type": "code",
   "execution_count": null,
   "id": "047b6395-49d4-4e3e-8a2a-b48c236f1da5",
   "metadata": {},
   "outputs": [],
   "source": []
  }
 ],
 "metadata": {
  "kernelspec": {
   "display_name": "",
   "name": ""
  },
  "language_info": {
   "name": ""
  }
 },
 "nbformat": 4,
 "nbformat_minor": 5
}
