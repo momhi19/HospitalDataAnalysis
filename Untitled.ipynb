{
 "cells": [
  {
   "cell_type": "code",
   "execution_count": 1,
   "id": "047b6395-49d4-4e3e-8a2a-b48c236f1da5",
   "metadata": {},
   "outputs": [
    {
     "name": "stdout",
     "output_type": "stream",
     "text": [
      "=== Données des patients ===\n",
      "   ID       Nom  Age  Genre    Diagnostic Date_Admission Date_Sortie  Cout\n",
      "0   1     Ahmed   32  Homme        Grippe     2025-03-01  2025-03-03   120\n",
      "1   2      Sara   45  Femme       Diabète     2025-02-15  2025-02-28   850\n",
      "2   3    Khaled   29  Homme      Fracture     2025-04-10  2025-04-18  1600\n",
      "3   4      Lina   60  Femme  Hypertension     2025-01-05  2025-01-20   940\n",
      "4   5     Amine   37  Homme   Appendicite     2025-05-22  2025-05-29  2200\n",
      "5   6     Imane   26  Femme      Allergie     2025-06-10  2025-06-12   300\n",
      "6   7      Omar   54  Homme  Cardiopathie     2025-03-07  2025-03-20  3100\n",
      "7   8     Nadia   41  Femme     Pneumonie     2025-07-15  2025-07-25  1750\n",
      "8   9     Hakim   35  Homme     Infection     2025-02-01  2025-02-05   600\n",
      "9  10  Soukaina   48  Femme      Migraine     2025-08-02  2025-08-03   200\n"
     ]
    }
   ],
   "source": [
    "import pandas as pd\n",
    "\n",
    "# Lire le fichier CSV\n",
    "data = pd.read_csv(\"data/Patients.csv\")\n",
    "\n",
    "# Afficher le contenu du fichier\n",
    "print(\"=== Données des patients ===\")\n",
    "print(data)\n"
   ]
  },
  {
   "cell_type": "code",
   "execution_count": null,
   "id": "d0ea44cf-6675-4174-a10b-5637c112b773",
   "metadata": {},
   "outputs": [],
   "source": []
  }
 ],
 "metadata": {
  "kernelspec": {
   "display_name": "Python [conda env:base] *",
   "language": "python",
   "name": "conda-base-py"
  },
  "language_info": {
   "codemirror_mode": {
    "name": "ipython",
    "version": 3
   },
   "file_extension": ".py",
   "mimetype": "text/x-python",
   "name": "python",
   "nbconvert_exporter": "python",
   "pygments_lexer": "ipython3",
   "version": "3.13.5"
  }
 },
 "nbformat": 4,
 "nbformat_minor": 5
}
